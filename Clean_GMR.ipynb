{
 "cells": [
  {
   "cell_type": "markdown",
   "metadata": {},
   "source": [
    "# Data Against Covid-19  "
   ]
  },
  {
   "cell_type": "markdown",
   "metadata": {},
   "source": [
    "# Covid19 : Correlation with the Google Comunity Mobility Report"
   ]
  },
  {
   "cell_type": "markdown",
   "metadata": {},
   "source": [
    "### Data"
   ]
  },
  {
   "cell_type": "markdown",
   "metadata": {},
   "source": [
    "__Day__ : day of the analysis <br /><br />\n",
    "__retail_and_recreation_percent_change_from_baseline__ : Mobility trends for places like restaurants,cafes, shopping centers, theme parks,museums, libraries, and movie theaters <br /><br />\n",
    "__grocery_and_pharmacy_percent_change_from_baseline__ : Mobility trends for places like grocerymarkets, food warehouses, farmersmarkets, specialty food shops, drug stores,and pharmacies <br /><br />\n",
    "__parks_percent_change_from_baseline__ : Mobility trends for places like national parks,public beaches, marinas, dog parks, plazas,and public gardens <br /><br />\n",
    "__transit_stations_percent_change_from_baseline__ : Mobility trends for places like public transporthubs such as subway, bus, and train stations <br /><br />\n",
    "__workplaces_percent_change_from_baseline__ : Mobility trends for places of work <br /><br />\n",
    "__residential_percent_change_from_baseline__ : Mobility trends for places of residence"
   ]
  },
  {
   "cell_type": "markdown",
   "metadata": {},
   "source": [
    "### Remarques : "
   ]
  },
  {
   "cell_type": "markdown",
   "metadata": {},
   "source": [
    "Be careful :\n",
    "- The column 'country_region' doesn't have null value but the column 'country_region_code' yes : Namibia : see annexe 1 : That's the reason why we will be working with the 'country_region'\n",
    "- There are some Nan value ex : Corsica for residential_percent_change_from_baseline' day 22/03, 29/03, 05/04, 12/04,19/04,26/04"
   ]
  },
  {
   "cell_type": "markdown",
   "metadata": {},
   "source": [
    "# Initialisation"
   ]
  },
  {
   "cell_type": "code",
   "execution_count": 645,
   "metadata": {},
   "outputs": [],
   "source": [
    "print(\"Starting the program\")\n",
    "import pandas as pd\n",
    "import urllib.request\n",
    "import os\n",
    "import numpy as np"
   ]
  },
  {
   "cell_type": "code",
   "execution_count": 517,
   "metadata": {},
   "outputs": [],
   "source": [
    "filePath = \"./Global_Mobility_Report.csv\"\n",
    "# Country we are looking for : Denmark, Italy, Germany, Spain, United_Kingdom, France, Norway, Belgium, Austria, Sweden, Switzerland, Greece, Portugal, Netherlands\n",
    "# let's begin the mapping for the country : Create a dictionnary with the mapping that you wish between the google name and the name in your database\n",
    "# Annexe 2 there are a useful tool to look for your country \n",
    "# For example in this example the only difference is for United Kingdom\n",
    "countries_list =  ['Denmark', 'Italy', 'Germany', 'Spain', 'United Kingdom', 'France', 'Norway', 'Belgium', 'Austria', 'Sweden', 'Switzerland', 'Greece', 'Portugal', 'Netherlands']\n",
    "\n",
    "countries = {\n",
    " 'Denmark': 'Denmark',\n",
    " 'Italy': 'Italy',\n",
    " 'Germany': 'Germany',\n",
    " 'Spain': 'Spain',\n",
    " 'United Kingdom': 'United_Kingdom',\n",
    " 'France': 'France',\n",
    " 'Norway': 'Norway',\n",
    " 'Belgium': 'Belgium',\n",
    " 'Austria': 'Austria',\n",
    " 'Sweden': 'Sweden',\n",
    " 'Switzerland': 'Switzerland',\n",
    " 'Greece': 'Greece',\n",
    " 'Portugal': 'Portugal',\n",
    " 'Netherlands': 'Netherlands',\n",
    "  }\n",
    "\n",
    "# Regions we are looking for :  Auvergne-Rhône-Alpes, Bourgogne-Franche-Comté, Bretagne, Centre-Val de Loire, Corse, Grand Est, Hauts-de-France, Normandie, Nouvelle-Aquitaine, Occitanie, Pays de la Loire,  Provence-Alpes-Côte d'Azur, Île-de-France, France-hopitaux, France-OC19, France-EHPAD    \n",
    "# let's begin the mapping for the regions : Create a dictionnary with the mapping that you wish between the google name and the name in your database\n",
    "# Annexe 2 there are a useful tool to look for your regions \n",
    "# difference : Brittany, normandy, Corsica\n",
    "\n",
    "all_france = 'France-OC19'\n",
    "\n",
    "regions = {\n",
    "    \n",
    "    'Auvergne-Rhône-Alpes' : 'Auvergne-Rhône-Alpes',\n",
    "    'Bourgogne-Franche-Comté' : 'Bourgogne-Franche-Comté',\n",
    "    'Brittany' : 'Bretagne',\n",
    "    'Centre-Val de Loire' : 'Centre-Val de Loire',\n",
    "    'Corsica' : 'Corse',\n",
    "    'Grand Est' : 'Grand Est',\n",
    "    'Hauts-de-France' : 'Hauts-de-France',\n",
    "    'Normandy' : 'Normandie',\n",
    "    'Nouvelle-Aquitaine' : 'Nouvelle-Aquitaine',\n",
    "    'Occitanie' : 'Occitanie',\n",
    "    'Pays de la Loire' : 'Pays de la Loire',\n",
    "    \"Provence-Alpes-Côte d'Azur\" : \"Provence-Alpes-Côte d'Azur\",\n",
    "    'Île-de-France' : 'Île-de-France'\n",
    "    \n",
    "}\n",
    "\n",
    "regions_code = {\n",
    "    \n",
    "    'Auvergne-Rhône-Alpes' : 84,\n",
    "    'Bourgogne-Franche-Comté' : 27,\n",
    "    'Bretagne' : 53,\n",
    "    'Centre-Val de Loire' : 24,\n",
    "    'Corse' :94,\n",
    "    'Grand Est' : 44,\n",
    "    'Hauts-de-France' : 32,\n",
    "    'Normandie' : 28,\n",
    "    'Nouvelle-Aquitaine' : 75,\n",
    "    'Occitanie' : 76,\n",
    "    'Pays de la Loire' : 52,\n",
    "    \"Provence-Alpes-Côte d'Azur\" : 93,\n",
    "    'Île-de-France' : 11\n",
    "    \n",
    "}"
   ]
  },
  {
   "cell_type": "markdown",
   "metadata": {},
   "source": [
    "## Check if the file exists"
   ]
  },
  {
   "cell_type": "code",
   "execution_count": 772,
   "metadata": {},
   "outputs": [],
   "source": [
    "import os.path\n",
    "\n",
    "if os.path.isfile(filePath):\n",
    "    os.remove(filePath)\n",
    "else:\n",
    "    print (\"File not exists\")\n"
   ]
  },
  {
   "cell_type": "markdown",
   "metadata": {},
   "source": [
    "## Get the file "
   ]
  },
  {
   "cell_type": "code",
   "execution_count": 773,
   "metadata": {},
   "outputs": [
    {
     "name": "stdout",
     "output_type": "stream",
     "text": [
      "Start the download\n",
      "The file have been correctly downloaded\n"
     ]
    }
   ],
   "source": [
    "print('Start the download')\n",
    "\n",
    "try :\n",
    "    url = 'https://www.gstatic.com/covid19/mobility/Global_Mobility_Report.csv?cachebust=e0c5a582159f5662'\n",
    "    urllib.request.urlretrieve(url, filePath)\n",
    "    print('The file have been correctly downloaded')\n",
    "except Exception as e:\n",
    "    print(\"The file have NOT been correctly downloaded\")\n",
    "    print(e)"
   ]
  },
  {
   "cell_type": "markdown",
   "metadata": {},
   "source": [
    "## Read the file : Community Mobility Report"
   ]
  },
  {
   "cell_type": "code",
   "execution_count": 774,
   "metadata": {},
   "outputs": [
    {
     "name": "stdout",
     "output_type": "stream",
     "text": [
      "Start the processing\n"
     ]
    }
   ],
   "source": [
    "print(\"Start the processing\")\n",
    "csv_df = pd.read_csv(\"./Global_Mobility_Report.csv\")"
   ]
  },
  {
   "cell_type": "markdown",
   "metadata": {},
   "source": [
    "# Filter for the countries that we are interested in  "
   ]
  },
  {
   "cell_type": "code",
   "execution_count": 737,
   "metadata": {},
   "outputs": [],
   "source": [
    "if len(csv_df[csv_df['country_region'].isin(countries_list)]['country_region'].unique()) != len (countries_list):\n",
    "    print(\"Error : You haven't put the countries that you want in the format of the google community report\")\n",
    "    "
   ]
  },
  {
   "cell_type": "code",
   "execution_count": 738,
   "metadata": {},
   "outputs": [],
   "source": [
    "df_countries = csv_df[csv_df['country_region'].isin(countries_list)].copy()"
   ]
  },
  {
   "cell_type": "code",
   "execution_count": 739,
   "metadata": {},
   "outputs": [
    {
     "data": {
      "text/plain": [
       "country_region_code                                   24928\n",
       "country_region                                        24928\n",
       "sub_region_1                                          23920\n",
       "sub_region_2                                              0\n",
       "date                                                  24928\n",
       "retail_and_recreation_percent_change_from_baseline    24510\n",
       "grocery_and_pharmacy_percent_change_from_baseline     24502\n",
       "parks_percent_change_from_baseline                    21214\n",
       "transit_stations_percent_change_from_baseline         24156\n",
       "workplaces_percent_change_from_baseline               24834\n",
       "residential_percent_change_from_baseline              21404\n",
       "dtype: int64"
      ]
     },
     "execution_count": 739,
     "metadata": {},
     "output_type": "execute_result"
    }
   ],
   "source": [
    "df_countries.count()"
   ]
  },
  {
   "cell_type": "markdown",
   "metadata": {},
   "source": [
    "## Clean the name according to our database"
   ]
  },
  {
   "cell_type": "markdown",
   "metadata": {},
   "source": [
    "#### Change the name of the countries"
   ]
  },
  {
   "cell_type": "code",
   "execution_count": 740,
   "metadata": {},
   "outputs": [
    {
     "data": {
      "text/plain": [
       "array(['Austria', 'Belgium', 'Switzerland', 'Germany', 'Denmark', 'Spain',\n",
       "       'France', 'United Kingdom', 'Greece', 'Italy', 'Netherlands',\n",
       "       'Norway', 'Portugal', 'Sweden'], dtype=object)"
      ]
     },
     "execution_count": 740,
     "metadata": {},
     "output_type": "execute_result"
    }
   ],
   "source": [
    "df_countries['country_region'].unique()\n",
    "#df_countries['country_region'].count()"
   ]
  },
  {
   "cell_type": "code",
   "execution_count": 741,
   "metadata": {
    "scrolled": true
   },
   "outputs": [],
   "source": [
    "df_countries['country_region'].replace(countries, inplace=True)"
   ]
  },
  {
   "cell_type": "code",
   "execution_count": 742,
   "metadata": {
    "scrolled": false
   },
   "outputs": [
    {
     "data": {
      "text/plain": [
       "array(['Austria', 'Belgium', 'Switzerland', 'Germany', 'Denmark', 'Spain',\n",
       "       'France', 'United_Kingdom', 'Greece', 'Italy', 'Netherlands',\n",
       "       'Norway', 'Portugal', 'Sweden'], dtype=object)"
      ]
     },
     "execution_count": 742,
     "metadata": {},
     "output_type": "execute_result"
    }
   ],
   "source": [
    "df_countries['country_region'].unique()\n",
    "#df_countries['country_region'].count()"
   ]
  },
  {
   "cell_type": "markdown",
   "metadata": {},
   "source": [
    "#### Fill the nan value of France"
   ]
  },
  {
   "cell_type": "code",
   "execution_count": 743,
   "metadata": {},
   "outputs": [
    {
     "data": {
      "text/plain": [
       "array([nan, 'Auvergne-Rhône-Alpes', 'Bourgogne-Franche-Comté', 'Brittany',\n",
       "       'Centre-Val de Loire', 'Corsica', 'Grand Est', 'Hauts-de-France',\n",
       "       'Île-de-France', 'Normandy', 'Nouvelle-Aquitaine', 'Occitanie',\n",
       "       'Pays de la Loire', \"Provence-Alpes-Côte d'Azur\"], dtype=object)"
      ]
     },
     "execution_count": 743,
     "metadata": {},
     "output_type": "execute_result"
    }
   ],
   "source": [
    "df_countries[df_countries['country_region']=='France']['sub_region_1'].unique()\n"
   ]
  },
  {
   "cell_type": "code",
   "execution_count": 744,
   "metadata": {},
   "outputs": [
    {
     "data": {
      "text/plain": [
       "23920"
      ]
     },
     "execution_count": 744,
     "metadata": {},
     "output_type": "execute_result"
    }
   ],
   "source": [
    "df_countries['sub_region_1'].count()"
   ]
  },
  {
   "cell_type": "code",
   "execution_count": 745,
   "metadata": {},
   "outputs": [],
   "source": [
    "df_countries.loc[(df_countries['country_region']=='France') & (df_countries['sub_region_1'].isnull()), 'sub_region_1'] = all_france"
   ]
  },
  {
   "cell_type": "code",
   "execution_count": 746,
   "metadata": {},
   "outputs": [
    {
     "data": {
      "text/plain": [
       "array(['France-OC19', 'Auvergne-Rhône-Alpes', 'Bourgogne-Franche-Comté',\n",
       "       'Brittany', 'Centre-Val de Loire', 'Corsica', 'Grand Est',\n",
       "       'Hauts-de-France', 'Île-de-France', 'Normandy',\n",
       "       'Nouvelle-Aquitaine', 'Occitanie', 'Pays de la Loire',\n",
       "       \"Provence-Alpes-Côte d'Azur\"], dtype=object)"
      ]
     },
     "execution_count": 746,
     "metadata": {},
     "output_type": "execute_result"
    }
   ],
   "source": [
    "df_countries[df_countries['country_region']=='France']['sub_region_1'].unique()\n",
    "#df_countries['sub_region_1'].count()"
   ]
  },
  {
   "cell_type": "markdown",
   "metadata": {},
   "source": [
    "#### Change the name of the regions"
   ]
  },
  {
   "cell_type": "code",
   "execution_count": 747,
   "metadata": {
    "scrolled": true
   },
   "outputs": [
    {
     "data": {
      "text/plain": [
       "335"
      ]
     },
     "execution_count": 747,
     "metadata": {},
     "output_type": "execute_result"
    }
   ],
   "source": [
    "len(df_countries['sub_region_1'].unique())"
   ]
  },
  {
   "cell_type": "code",
   "execution_count": 748,
   "metadata": {},
   "outputs": [
    {
     "data": {
      "text/plain": [
       "array(['France-OC19', 'Auvergne-Rhône-Alpes', 'Bourgogne-Franche-Comté',\n",
       "       'Brittany', 'Centre-Val de Loire', 'Corsica', 'Grand Est',\n",
       "       'Hauts-de-France', 'Île-de-France', 'Normandy',\n",
       "       'Nouvelle-Aquitaine', 'Occitanie', 'Pays de la Loire',\n",
       "       \"Provence-Alpes-Côte d'Azur\"], dtype=object)"
      ]
     },
     "execution_count": 748,
     "metadata": {},
     "output_type": "execute_result"
    }
   ],
   "source": [
    "df_countries['sub_region_1'][df_countries['country_region']=='France'].unique()"
   ]
  },
  {
   "cell_type": "code",
   "execution_count": 749,
   "metadata": {},
   "outputs": [],
   "source": [
    "df_countries['sub_region_1'].replace(regions, inplace=True)"
   ]
  },
  {
   "cell_type": "code",
   "execution_count": 750,
   "metadata": {},
   "outputs": [
    {
     "data": {
      "text/plain": [
       "335"
      ]
     },
     "execution_count": 750,
     "metadata": {},
     "output_type": "execute_result"
    }
   ],
   "source": [
    "len(df_countries['sub_region_1'].unique())"
   ]
  },
  {
   "cell_type": "code",
   "execution_count": 751,
   "metadata": {},
   "outputs": [
    {
     "data": {
      "text/plain": [
       "array(['France-OC19', 'Auvergne-Rhône-Alpes', 'Bourgogne-Franche-Comté',\n",
       "       'Bretagne', 'Centre-Val de Loire', 'Corse', 'Grand Est',\n",
       "       'Hauts-de-France', 'Île-de-France', 'Normandie',\n",
       "       'Nouvelle-Aquitaine', 'Occitanie', 'Pays de la Loire',\n",
       "       \"Provence-Alpes-Côte d'Azur\"], dtype=object)"
      ]
     },
     "execution_count": 751,
     "metadata": {},
     "output_type": "execute_result"
    }
   ],
   "source": [
    "df_countries['sub_region_1'][df_countries['country_region']=='France'].unique()"
   ]
  },
  {
   "cell_type": "markdown",
   "metadata": {},
   "source": [
    "#### Add the region code "
   ]
  },
  {
   "cell_type": "code",
   "execution_count": 752,
   "metadata": {},
   "outputs": [
    {
     "data": {
      "text/plain": [
       "Index(['country_region_code', 'country_region', 'sub_region_1', 'sub_region_2',\n",
       "       'date', 'retail_and_recreation_percent_change_from_baseline',\n",
       "       'grocery_and_pharmacy_percent_change_from_baseline',\n",
       "       'parks_percent_change_from_baseline',\n",
       "       'transit_stations_percent_change_from_baseline',\n",
       "       'workplaces_percent_change_from_baseline',\n",
       "       'residential_percent_change_from_baseline'],\n",
       "      dtype='object')"
      ]
     },
     "execution_count": 752,
     "metadata": {},
     "output_type": "execute_result"
    }
   ],
   "source": [
    "df_countries.columns"
   ]
  },
  {
   "cell_type": "code",
   "execution_count": 753,
   "metadata": {},
   "outputs": [],
   "source": [
    "df_countries['sub_region_1_code'] = df_countries['sub_region_1'].map(regions_code)"
   ]
  },
  {
   "cell_type": "code",
   "execution_count": 754,
   "metadata": {},
   "outputs": [
    {
     "data": {
      "text/plain": [
       "Index(['country_region_code', 'country_region', 'sub_region_1', 'sub_region_2',\n",
       "       'date', 'retail_and_recreation_percent_change_from_baseline',\n",
       "       'grocery_and_pharmacy_percent_change_from_baseline',\n",
       "       'parks_percent_change_from_baseline',\n",
       "       'transit_stations_percent_change_from_baseline',\n",
       "       'workplaces_percent_change_from_baseline',\n",
       "       'residential_percent_change_from_baseline', 'sub_region_1_code'],\n",
       "      dtype='object')"
      ]
     },
     "execution_count": 754,
     "metadata": {},
     "output_type": "execute_result"
    }
   ],
   "source": [
    "df_countries.columns"
   ]
  },
  {
   "cell_type": "code",
   "execution_count": 759,
   "metadata": {},
   "outputs": [
    {
     "name": "stdout",
     "output_type": "stream",
     "text": [
      "End of the processing\n"
     ]
    }
   ],
   "source": [
    "df_countries = df_countries[['country_region_code','country_region', 'sub_region_1_code', 'sub_region_1', 'sub_region_2','date', 'retail_and_recreation_percent_change_from_baseline',\n",
    "       'grocery_and_pharmacy_percent_change_from_baseline',\n",
    "       'parks_percent_change_from_baseline',\n",
    "       'transit_stations_percent_change_from_baseline',\n",
    "       'workplaces_percent_change_from_baseline',\n",
    "       'residential_percent_change_from_baseline']]\n",
    "print(\"End of the processing\")"
   ]
  },
  {
   "cell_type": "code",
   "execution_count": 761,
   "metadata": {},
   "outputs": [
    {
     "data": {
      "text/html": [
       "<div>\n",
       "<style scoped>\n",
       "    .dataframe tbody tr th:only-of-type {\n",
       "        vertical-align: middle;\n",
       "    }\n",
       "\n",
       "    .dataframe tbody tr th {\n",
       "        vertical-align: top;\n",
       "    }\n",
       "\n",
       "    .dataframe thead th {\n",
       "        text-align: right;\n",
       "    }\n",
       "</style>\n",
       "<table border=\"1\" class=\"dataframe\">\n",
       "  <thead>\n",
       "    <tr style=\"text-align: right;\">\n",
       "      <th></th>\n",
       "      <th>sub_region_1_code</th>\n",
       "      <th>retail_and_recreation_percent_change_from_baseline</th>\n",
       "      <th>grocery_and_pharmacy_percent_change_from_baseline</th>\n",
       "      <th>parks_percent_change_from_baseline</th>\n",
       "      <th>transit_stations_percent_change_from_baseline</th>\n",
       "      <th>workplaces_percent_change_from_baseline</th>\n",
       "      <th>residential_percent_change_from_baseline</th>\n",
       "    </tr>\n",
       "  </thead>\n",
       "  <tbody>\n",
       "    <tr>\n",
       "      <th>count</th>\n",
       "      <td>720.000000</td>\n",
       "      <td>24510.000000</td>\n",
       "      <td>24502.000000</td>\n",
       "      <td>21214.000000</td>\n",
       "      <td>24156.000000</td>\n",
       "      <td>24834.000000</td>\n",
       "      <td>21404.000000</td>\n",
       "    </tr>\n",
       "    <tr>\n",
       "      <th>mean</th>\n",
       "      <td>51.800000</td>\n",
       "      <td>-37.591881</td>\n",
       "      <td>-13.510815</td>\n",
       "      <td>-7.404686</td>\n",
       "      <td>-35.309116</td>\n",
       "      <td>-31.857051</td>\n",
       "      <td>12.327415</td>\n",
       "    </tr>\n",
       "    <tr>\n",
       "      <th>std</th>\n",
       "      <td>27.154818</td>\n",
       "      <td>36.838445</td>\n",
       "      <td>23.235566</td>\n",
       "      <td>43.620709</td>\n",
       "      <td>32.314992</td>\n",
       "      <td>28.084827</td>\n",
       "      <td>11.654913</td>\n",
       "    </tr>\n",
       "    <tr>\n",
       "      <th>min</th>\n",
       "      <td>11.000000</td>\n",
       "      <td>-100.000000</td>\n",
       "      <td>-96.000000</td>\n",
       "      <td>-93.000000</td>\n",
       "      <td>-93.000000</td>\n",
       "      <td>-92.000000</td>\n",
       "      <td>-6.000000</td>\n",
       "    </tr>\n",
       "    <tr>\n",
       "      <th>25%</th>\n",
       "      <td>27.000000</td>\n",
       "      <td>-74.000000</td>\n",
       "      <td>-30.000000</td>\n",
       "      <td>-35.000000</td>\n",
       "      <td>-65.000000</td>\n",
       "      <td>-59.000000</td>\n",
       "      <td>1.000000</td>\n",
       "    </tr>\n",
       "    <tr>\n",
       "      <th>50%</th>\n",
       "      <td>48.000000</td>\n",
       "      <td>-36.000000</td>\n",
       "      <td>-6.000000</td>\n",
       "      <td>-5.000000</td>\n",
       "      <td>-39.000000</td>\n",
       "      <td>-30.000000</td>\n",
       "      <td>10.000000</td>\n",
       "    </tr>\n",
       "    <tr>\n",
       "      <th>75%</th>\n",
       "      <td>76.000000</td>\n",
       "      <td>-1.000000</td>\n",
       "      <td>3.000000</td>\n",
       "      <td>16.000000</td>\n",
       "      <td>-3.000000</td>\n",
       "      <td>-1.000000</td>\n",
       "      <td>24.000000</td>\n",
       "    </tr>\n",
       "    <tr>\n",
       "      <th>max</th>\n",
       "      <td>93.000000</td>\n",
       "      <td>87.000000</td>\n",
       "      <td>107.000000</td>\n",
       "      <td>377.000000</td>\n",
       "      <td>93.000000</td>\n",
       "      <td>17.000000</td>\n",
       "      <td>50.000000</td>\n",
       "    </tr>\n",
       "  </tbody>\n",
       "</table>\n",
       "</div>"
      ],
      "text/plain": [
       "       sub_region_1_code  retail_and_recreation_percent_change_from_baseline  \\\n",
       "count         720.000000                                       24510.000000    \n",
       "mean           51.800000                                         -37.591881    \n",
       "std            27.154818                                          36.838445    \n",
       "min            11.000000                                        -100.000000    \n",
       "25%            27.000000                                         -74.000000    \n",
       "50%            48.000000                                         -36.000000    \n",
       "75%            76.000000                                          -1.000000    \n",
       "max            93.000000                                          87.000000    \n",
       "\n",
       "       grocery_and_pharmacy_percent_change_from_baseline  \\\n",
       "count                                       24502.000000   \n",
       "mean                                          -13.510815   \n",
       "std                                            23.235566   \n",
       "min                                           -96.000000   \n",
       "25%                                           -30.000000   \n",
       "50%                                            -6.000000   \n",
       "75%                                             3.000000   \n",
       "max                                           107.000000   \n",
       "\n",
       "       parks_percent_change_from_baseline  \\\n",
       "count                        21214.000000   \n",
       "mean                            -7.404686   \n",
       "std                             43.620709   \n",
       "min                            -93.000000   \n",
       "25%                            -35.000000   \n",
       "50%                             -5.000000   \n",
       "75%                             16.000000   \n",
       "max                            377.000000   \n",
       "\n",
       "       transit_stations_percent_change_from_baseline  \\\n",
       "count                                   24156.000000   \n",
       "mean                                      -35.309116   \n",
       "std                                        32.314992   \n",
       "min                                       -93.000000   \n",
       "25%                                       -65.000000   \n",
       "50%                                       -39.000000   \n",
       "75%                                        -3.000000   \n",
       "max                                        93.000000   \n",
       "\n",
       "       workplaces_percent_change_from_baseline  \\\n",
       "count                             24834.000000   \n",
       "mean                                -31.857051   \n",
       "std                                  28.084827   \n",
       "min                                 -92.000000   \n",
       "25%                                 -59.000000   \n",
       "50%                                 -30.000000   \n",
       "75%                                  -1.000000   \n",
       "max                                  17.000000   \n",
       "\n",
       "       residential_percent_change_from_baseline  \n",
       "count                              21404.000000  \n",
       "mean                                  12.327415  \n",
       "std                                   11.654913  \n",
       "min                                   -6.000000  \n",
       "25%                                    1.000000  \n",
       "50%                                   10.000000  \n",
       "75%                                   24.000000  \n",
       "max                                   50.000000  "
      ]
     },
     "execution_count": 761,
     "metadata": {},
     "output_type": "execute_result"
    }
   ],
   "source": [
    "df_countries.describe()"
   ]
  },
  {
   "cell_type": "markdown",
   "metadata": {},
   "source": [
    "## Write the result in a CSV file"
   ]
  },
  {
   "cell_type": "code",
   "execution_count": 771,
   "metadata": {},
   "outputs": [
    {
     "name": "stdout",
     "output_type": "stream",
     "text": [
      "Save the result with the name : Global_Mobility_Report_prepared.csv\n"
     ]
    }
   ],
   "source": [
    "print(\"Save the result with the name : Global_Mobility_Report_prepared.csv\")\n",
    "df_countries.to_csv('Global_Mobility_Report_prepared.csv')"
   ]
  },
  {
   "cell_type": "markdown",
   "metadata": {},
   "source": [
    "# Analyze"
   ]
  },
  {
   "cell_type": "code",
   "execution_count": 247,
   "metadata": {},
   "outputs": [
    {
     "data": {
      "text/html": [
       "<div>\n",
       "<style scoped>\n",
       "    .dataframe tbody tr th:only-of-type {\n",
       "        vertical-align: middle;\n",
       "    }\n",
       "\n",
       "    .dataframe tbody tr th {\n",
       "        vertical-align: top;\n",
       "    }\n",
       "\n",
       "    .dataframe thead th {\n",
       "        text-align: right;\n",
       "    }\n",
       "</style>\n",
       "<table border=\"1\" class=\"dataframe\">\n",
       "  <thead>\n",
       "    <tr style=\"text-align: right;\">\n",
       "      <th></th>\n",
       "      <th>retail_and_recreation_percent_change_from_baseline</th>\n",
       "      <th>grocery_and_pharmacy_percent_change_from_baseline</th>\n",
       "      <th>parks_percent_change_from_baseline</th>\n",
       "      <th>transit_stations_percent_change_from_baseline</th>\n",
       "      <th>workplaces_percent_change_from_baseline</th>\n",
       "      <th>residential_percent_change_from_baseline</th>\n",
       "    </tr>\n",
       "  </thead>\n",
       "  <tbody>\n",
       "    <tr>\n",
       "      <th>count</th>\n",
       "      <td>239356.000000</td>\n",
       "      <td>232094.000000</td>\n",
       "      <td>123860.000000</td>\n",
       "      <td>151104.000000</td>\n",
       "      <td>273621.000000</td>\n",
       "      <td>159503.000000</td>\n",
       "    </tr>\n",
       "    <tr>\n",
       "      <th>mean</th>\n",
       "      <td>-20.003526</td>\n",
       "      <td>-4.707817</td>\n",
       "      <td>-5.161917</td>\n",
       "      <td>-23.779079</td>\n",
       "      <td>-21.568458</td>\n",
       "      <td>9.595211</td>\n",
       "    </tr>\n",
       "    <tr>\n",
       "      <th>std</th>\n",
       "      <td>29.857701</td>\n",
       "      <td>20.486933</td>\n",
       "      <td>41.032907</td>\n",
       "      <td>30.273161</td>\n",
       "      <td>22.692384</td>\n",
       "      <td>10.010652</td>\n",
       "    </tr>\n",
       "    <tr>\n",
       "      <th>min</th>\n",
       "      <td>-100.000000</td>\n",
       "      <td>-100.000000</td>\n",
       "      <td>-100.000000</td>\n",
       "      <td>-100.000000</td>\n",
       "      <td>-94.000000</td>\n",
       "      <td>-25.000000</td>\n",
       "    </tr>\n",
       "    <tr>\n",
       "      <th>25%</th>\n",
       "      <td>-41.000000</td>\n",
       "      <td>-14.000000</td>\n",
       "      <td>-31.000000</td>\n",
       "      <td>-48.000000</td>\n",
       "      <td>-39.000000</td>\n",
       "      <td>0.000000</td>\n",
       "    </tr>\n",
       "    <tr>\n",
       "      <th>50%</th>\n",
       "      <td>-15.000000</td>\n",
       "      <td>-1.000000</td>\n",
       "      <td>-4.000000</td>\n",
       "      <td>-18.000000</td>\n",
       "      <td>-23.000000</td>\n",
       "      <td>8.000000</td>\n",
       "    </tr>\n",
       "    <tr>\n",
       "      <th>75%</th>\n",
       "      <td>4.000000</td>\n",
       "      <td>7.000000</td>\n",
       "      <td>16.000000</td>\n",
       "      <td>1.000000</td>\n",
       "      <td>1.000000</td>\n",
       "      <td>17.000000</td>\n",
       "    </tr>\n",
       "    <tr>\n",
       "      <th>max</th>\n",
       "      <td>313.000000</td>\n",
       "      <td>337.000000</td>\n",
       "      <td>430.000000</td>\n",
       "      <td>497.000000</td>\n",
       "      <td>248.000000</td>\n",
       "      <td>54.000000</td>\n",
       "    </tr>\n",
       "  </tbody>\n",
       "</table>\n",
       "</div>"
      ],
      "text/plain": [
       "       retail_and_recreation_percent_change_from_baseline  \\\n",
       "count                                      239356.000000    \n",
       "mean                                          -20.003526    \n",
       "std                                            29.857701    \n",
       "min                                          -100.000000    \n",
       "25%                                           -41.000000    \n",
       "50%                                           -15.000000    \n",
       "75%                                             4.000000    \n",
       "max                                           313.000000    \n",
       "\n",
       "       grocery_and_pharmacy_percent_change_from_baseline  \\\n",
       "count                                      232094.000000   \n",
       "mean                                           -4.707817   \n",
       "std                                            20.486933   \n",
       "min                                          -100.000000   \n",
       "25%                                           -14.000000   \n",
       "50%                                            -1.000000   \n",
       "75%                                             7.000000   \n",
       "max                                           337.000000   \n",
       "\n",
       "       parks_percent_change_from_baseline  \\\n",
       "count                       123860.000000   \n",
       "mean                            -5.161917   \n",
       "std                             41.032907   \n",
       "min                           -100.000000   \n",
       "25%                            -31.000000   \n",
       "50%                             -4.000000   \n",
       "75%                             16.000000   \n",
       "max                            430.000000   \n",
       "\n",
       "       transit_stations_percent_change_from_baseline  \\\n",
       "count                                  151104.000000   \n",
       "mean                                      -23.779079   \n",
       "std                                        30.273161   \n",
       "min                                      -100.000000   \n",
       "25%                                       -48.000000   \n",
       "50%                                       -18.000000   \n",
       "75%                                         1.000000   \n",
       "max                                       497.000000   \n",
       "\n",
       "       workplaces_percent_change_from_baseline  \\\n",
       "count                            273621.000000   \n",
       "mean                                -21.568458   \n",
       "std                                  22.692384   \n",
       "min                                 -94.000000   \n",
       "25%                                 -39.000000   \n",
       "50%                                 -23.000000   \n",
       "75%                                   1.000000   \n",
       "max                                 248.000000   \n",
       "\n",
       "       residential_percent_change_from_baseline  \n",
       "count                             159503.000000  \n",
       "mean                                   9.595211  \n",
       "std                                   10.010652  \n",
       "min                                  -25.000000  \n",
       "25%                                    0.000000  \n",
       "50%                                    8.000000  \n",
       "75%                                   17.000000  \n",
       "max                                   54.000000  "
      ]
     },
     "execution_count": 247,
     "metadata": {},
     "output_type": "execute_result"
    }
   ],
   "source": [
    "csv_df.describe()"
   ]
  },
  {
   "cell_type": "code",
   "execution_count": 26,
   "metadata": {},
   "outputs": [
    {
     "data": {
      "text/plain": [
       "Index(['country_region_code', 'country_region', 'sub_region_1', 'sub_region_2',\n",
       "       'date', 'retail_and_recreation_percent_change_from_baseline',\n",
       "       'grocery_and_pharmacy_percent_change_from_baseline',\n",
       "       'parks_percent_change_from_baseline',\n",
       "       'transit_stations_percent_change_from_baseline',\n",
       "       'workplaces_percent_change_from_baseline',\n",
       "       'residential_percent_change_from_baseline'],\n",
       "      dtype='object')"
      ]
     },
     "execution_count": 26,
     "metadata": {},
     "output_type": "execute_result"
    }
   ],
   "source": [
    "csv_df.columns"
   ]
  },
  {
   "cell_type": "code",
   "execution_count": 24,
   "metadata": {},
   "outputs": [
    {
     "data": {
      "text/html": [
       "<div>\n",
       "<style scoped>\n",
       "    .dataframe tbody tr th:only-of-type {\n",
       "        vertical-align: middle;\n",
       "    }\n",
       "\n",
       "    .dataframe tbody tr th {\n",
       "        vertical-align: top;\n",
       "    }\n",
       "\n",
       "    .dataframe thead th {\n",
       "        text-align: right;\n",
       "    }\n",
       "</style>\n",
       "<table border=\"1\" class=\"dataframe\">\n",
       "  <thead>\n",
       "    <tr style=\"text-align: right;\">\n",
       "      <th></th>\n",
       "      <th>retail_and_recreation_percent_change_from_baseline</th>\n",
       "      <th>grocery_and_pharmacy_percent_change_from_baseline</th>\n",
       "      <th>parks_percent_change_from_baseline</th>\n",
       "      <th>transit_stations_percent_change_from_baseline</th>\n",
       "      <th>workplaces_percent_change_from_baseline</th>\n",
       "      <th>residential_percent_change_from_baseline</th>\n",
       "    </tr>\n",
       "  </thead>\n",
       "  <tbody>\n",
       "    <tr>\n",
       "      <th>count</th>\n",
       "      <td>1008.000000</td>\n",
       "      <td>1008.000000</td>\n",
       "      <td>1008.00000</td>\n",
       "      <td>1008.000000</td>\n",
       "      <td>1008.000000</td>\n",
       "      <td>1002.000000</td>\n",
       "    </tr>\n",
       "    <tr>\n",
       "      <th>mean</th>\n",
       "      <td>-49.374008</td>\n",
       "      <td>-23.515873</td>\n",
       "      <td>-30.50496</td>\n",
       "      <td>-45.993056</td>\n",
       "      <td>-39.651786</td>\n",
       "      <td>16.835329</td>\n",
       "    </tr>\n",
       "    <tr>\n",
       "      <th>std</th>\n",
       "      <td>39.501109</td>\n",
       "      <td>26.761511</td>\n",
       "      <td>39.31029</td>\n",
       "      <td>39.576193</td>\n",
       "      <td>29.382773</td>\n",
       "      <td>13.527632</td>\n",
       "    </tr>\n",
       "    <tr>\n",
       "      <th>min</th>\n",
       "      <td>-92.000000</td>\n",
       "      <td>-90.000000</td>\n",
       "      <td>-89.00000</td>\n",
       "      <td>-90.000000</td>\n",
       "      <td>-91.000000</td>\n",
       "      <td>-3.000000</td>\n",
       "    </tr>\n",
       "    <tr>\n",
       "      <th>25%</th>\n",
       "      <td>-83.000000</td>\n",
       "      <td>-43.250000</td>\n",
       "      <td>-62.00000</td>\n",
       "      <td>-81.000000</td>\n",
       "      <td>-67.000000</td>\n",
       "      <td>2.000000</td>\n",
       "    </tr>\n",
       "    <tr>\n",
       "      <th>50%</th>\n",
       "      <td>-79.000000</td>\n",
       "      <td>-32.000000</td>\n",
       "      <td>-49.00000</td>\n",
       "      <td>-75.000000</td>\n",
       "      <td>-50.000000</td>\n",
       "      <td>18.000000</td>\n",
       "    </tr>\n",
       "    <tr>\n",
       "      <th>75%</th>\n",
       "      <td>-4.000000</td>\n",
       "      <td>1.000000</td>\n",
       "      <td>4.00000</td>\n",
       "      <td>-4.000000</td>\n",
       "      <td>-5.000000</td>\n",
       "      <td>30.000000</td>\n",
       "    </tr>\n",
       "    <tr>\n",
       "      <th>max</th>\n",
       "      <td>25.000000</td>\n",
       "      <td>53.000000</td>\n",
       "      <td>107.00000</td>\n",
       "      <td>60.000000</td>\n",
       "      <td>5.000000</td>\n",
       "      <td>42.000000</td>\n",
       "    </tr>\n",
       "  </tbody>\n",
       "</table>\n",
       "</div>"
      ],
      "text/plain": [
       "       retail_and_recreation_percent_change_from_baseline  \\\n",
       "count                                        1008.000000    \n",
       "mean                                          -49.374008    \n",
       "std                                            39.501109    \n",
       "min                                           -92.000000    \n",
       "25%                                           -83.000000    \n",
       "50%                                           -79.000000    \n",
       "75%                                            -4.000000    \n",
       "max                                            25.000000    \n",
       "\n",
       "       grocery_and_pharmacy_percent_change_from_baseline  \\\n",
       "count                                        1008.000000   \n",
       "mean                                          -23.515873   \n",
       "std                                            26.761511   \n",
       "min                                           -90.000000   \n",
       "25%                                           -43.250000   \n",
       "50%                                           -32.000000   \n",
       "75%                                             1.000000   \n",
       "max                                            53.000000   \n",
       "\n",
       "       parks_percent_change_from_baseline  \\\n",
       "count                          1008.00000   \n",
       "mean                            -30.50496   \n",
       "std                              39.31029   \n",
       "min                             -89.00000   \n",
       "25%                             -62.00000   \n",
       "50%                             -49.00000   \n",
       "75%                               4.00000   \n",
       "max                             107.00000   \n",
       "\n",
       "       transit_stations_percent_change_from_baseline  \\\n",
       "count                                    1008.000000   \n",
       "mean                                      -45.993056   \n",
       "std                                        39.576193   \n",
       "min                                       -90.000000   \n",
       "25%                                       -81.000000   \n",
       "50%                                       -75.000000   \n",
       "75%                                        -4.000000   \n",
       "max                                        60.000000   \n",
       "\n",
       "       workplaces_percent_change_from_baseline  \\\n",
       "count                              1008.000000   \n",
       "mean                                -39.651786   \n",
       "std                                  29.382773   \n",
       "min                                 -91.000000   \n",
       "25%                                 -67.000000   \n",
       "50%                                 -50.000000   \n",
       "75%                                  -5.000000   \n",
       "max                                   5.000000   \n",
       "\n",
       "       residential_percent_change_from_baseline  \n",
       "count                               1002.000000  \n",
       "mean                                  16.835329  \n",
       "std                                   13.527632  \n",
       "min                                   -3.000000  \n",
       "25%                                    2.000000  \n",
       "50%                                   18.000000  \n",
       "75%                                   30.000000  \n",
       "max                                   42.000000  "
      ]
     },
     "execution_count": 24,
     "metadata": {},
     "output_type": "execute_result"
    }
   ],
   "source": [
    "df_fr.describe()"
   ]
  },
  {
   "cell_type": "markdown",
   "metadata": {},
   "source": [
    "# Annexes"
   ]
  },
  {
   "cell_type": "markdown",
   "metadata": {},
   "source": [
    "Annexe 1 : Find the null value in 'country_region_code'"
   ]
  },
  {
   "cell_type": "code",
   "execution_count": 61,
   "metadata": {},
   "outputs": [
    {
     "data": {
      "text/plain": [
       "array(['Namibia'], dtype=object)"
      ]
     },
     "execution_count": 61,
     "metadata": {},
     "output_type": "execute_result"
    }
   ],
   "source": [
    "look = csv_df[csv_df['country_region_code'].isnull()]['country_region'].to_frame()\n",
    "look['country_region'].unique()"
   ]
  },
  {
   "cell_type": "markdown",
   "metadata": {},
   "source": [
    "Annexe 2 : Find the country that correspond to the name you want"
   ]
  },
  {
   "cell_type": "code",
   "execution_count": 79,
   "metadata": {},
   "outputs": [
    {
     "data": {
      "text/plain": [
       "array(['Denmark'], dtype=object)"
      ]
     },
     "execution_count": 79,
     "metadata": {},
     "output_type": "execute_result"
    }
   ],
   "source": [
    "# Enter the country that you are looking for : \n",
    "country = 'Denmark'\n",
    "cd = country[:3]\n",
    "csv_df['country_region'].unique()[pd.Series(csv_df['country_region'].unique()).str.startswith(cd)]"
   ]
  },
  {
   "cell_type": "code",
   "execution_count": 157,
   "metadata": {},
   "outputs": [
    {
     "data": {
      "text/plain": [
       "array(['Auvergne-Rhône-Alpes'], dtype=object)"
      ]
     },
     "execution_count": 157,
     "metadata": {},
     "output_type": "execute_result"
    }
   ],
   "source": [
    "# Enter the regions that you are looking for : \n",
    "regions = 'Auvergne-Rhône-Alpes'\n",
    "cd = regions[:3]\n",
    "reg = csv_df[csv_df['country_region_code']=='FR']['sub_region_1'].unique()\n",
    "reg[pd.Series(reg).str.startswith(cd, na = False)]"
   ]
  },
  {
   "cell_type": "markdown",
   "metadata": {},
   "source": [
    "Annexe 3 : Group by regions ( Be careful it doesn't take in account the nan value ) "
   ]
  },
  {
   "cell_type": "code",
   "execution_count": null,
   "metadata": {},
   "outputs": [],
   "source": [
    "df_fr = csv_df[csv_df['country_region_code']=='FR']\n",
    "df_rg = df_fr.groupby(df_fr['sub_region_1'])\n",
    "df_rg.count()"
   ]
  },
  {
   "cell_type": "markdown",
   "metadata": {},
   "source": [
    "Annexe 4 : Find the nana value for a column "
   ]
  },
  {
   "cell_type": "code",
   "execution_count": null,
   "metadata": {},
   "outputs": [],
   "source": [
    "df_fr[df_fr['sub_region_1']=='Corsica'][df_fr['residential_percent_change_from_baseline'].isnull()]"
   ]
  },
  {
   "cell_type": "markdown",
   "metadata": {},
   "source": [
    "Annexe 5 : Which country have a sub_region_2"
   ]
  },
  {
   "cell_type": "code",
   "execution_count": null,
   "metadata": {},
   "outputs": [],
   "source": [
    "csv_df[pd.Series(csv_df['sub_region_2']).notna()]['country_region'].unique()"
   ]
  }
 ],
 "metadata": {
  "kernelspec": {
   "display_name": "Python 3",
   "language": "python",
   "name": "python3"
  },
  "language_info": {
   "codemirror_mode": {
    "name": "ipython",
    "version": 3
   },
   "file_extension": ".py",
   "mimetype": "text/x-python",
   "name": "python",
   "nbconvert_exporter": "python",
   "pygments_lexer": "ipython3",
   "version": "3.7.3"
  }
 },
 "nbformat": 4,
 "nbformat_minor": 2
}
